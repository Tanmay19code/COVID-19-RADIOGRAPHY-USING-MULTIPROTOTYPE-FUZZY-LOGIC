{
 "cells": [
  {
   "cell_type": "code",
   "execution_count": 4,
   "metadata": {},
   "outputs": [],
   "source": [
    "# import the necessary packages\n",
    "import numpy as np\n",
    "import cv2\n",
    "import os\n",
    "import matplotlib.pyplot as plt\n",
    "import matplotlib.image as mpimg\n",
    "import matplotlib.patches as mpatches\n",
    "import pandas as pd\n",
    "import seaborn as sns\n",
    "import ast\n",
    "import pywt"
   ]
  },
  {
   "cell_type": "code",
   "execution_count": 34,
   "metadata": {},
   "outputs": [
    {
     "data": {
      "image/png": "[encoded data removed]",
      "text/plain": [
       "<Figure size 432x288 with 1 Axes>"
      ]
     },
     "metadata": {
      "needs_background": "light"
     },
     "output_type": "display_data"
    },
    {
     "name": "stdout",
     "output_type": "stream",
     "text": [
      "Average r value for maximum accuracy:\n",
      "0.014\n"
     ]
    }
   ],
   "source": [
    "r_values = [0.025,0.019,0.015,0.01966,0.018,0.012,0.012,0.014]\n",
    "noOfTrainVectors = [8153,2892,1076,12121,8153,2892,1076,12121]\n",
    "accuracy_values = [83.3742,71.6850,74.7211,79.8153,71.5154,70.9444,72.4907,84.9274]\n",
    "\n",
    "# Plotting the accuracy values vs r values/number of training vectors\n",
    "# divider values by number of training vectors\n",
    "x_values = [x / y for x, y in zip(r_values, noOfTrainVectors)]\n",
    "# Plotting the accuracy values vs r values/number of training vectors\n",
    "\n",
    "plt.plot(x_values, accuracy_values, 'ro')\n",
    "# plt.axis([0, 0.002, 0, 100])\n",
    "plt.xlabel('r values/number of training vectors')\n",
    "plt.ylabel('accuracy values')\n",
    "plt.show()\n",
    "\n",
    "print(\"Average r value for maximum accuracy:\")\n",
    "print(r_values[accuracy_values.index(max(accuracy_values))])\n"
   ]
  }
 ],
 "metadata": {
  "kernelspec": {
   "display_name": "base",
   "language": "python",
   "name": "python3"
  },
  "language_info": {
   "codemirror_mode": {
    "name": "ipython",
    "version": 3
   },
   "file_extension": ".py",
   "mimetype": "text/x-python",
   "name": "python",
   "nbconvert_exporter": "python",
   "pygments_lexer": "ipython3",
   "version": "3.9.12"
  },
  "orig_nbformat": 4,
  "vscode": {
   "interpreter": {
    "hash": "88279d2366fe020547cde40dd65aa0e3aa662a6ec1f3ca12d88834876c85e1a6"
   }
  }
 },
 "nbformat": 4,
 "nbformat_minor": 2
}
