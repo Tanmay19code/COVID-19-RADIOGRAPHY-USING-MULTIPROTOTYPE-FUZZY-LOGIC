{
 "cells": [
  {
   "cell_type": "code",
   "execution_count": 1,
   "metadata": {},
   "outputs": [],
   "source": [
    "# import the necessary packages\n",
    "import numpy as np\n",
    "import cv2\n",
    "import os\n",
    "import matplotlib.pyplot as plt\n",
    "import matplotlib.image as mpimg\n",
    "import matplotlib.patches as mpatches\n",
    "import pandas as pd\n",
    "import seaborn as sns\n",
    "import ast\n",
    "import pywt"
   ]
  },
  {
   "cell_type": "code",
   "execution_count": 2,
   "metadata": {},
   "outputs": [],
   "source": [
    "\n",
    "covid_images_length = len(os.listdir('./COVID-19_Radiography_Dataset/COVID/sharpen_images/'))\n",
    "normal_images_length = len(os.listdir('./COVID-19_Radiography_Dataset/Normal/sharpen_images/'))\n",
    "viral_pneumonia_images_length = len(os.listdir('./COVID-19_Radiography_Dataset/Viral Pneumonia/sharpen_images/'))\n",
    "\n",
    "#! read all images of normal\n",
    "normal_images = []\n",
    "for i in range(1, normal_images_length+1):\n",
    "    normal_images.append(cv2.imread(\n",
    "        './COVID-19_Radiography_Dataset/Normal/sharpen_images/Normal-'+str(i)+'.png'))\n",
    "\n",
    "#! read all images of viral pneumonia\n",
    "viral_pneumonia_images = []\n",
    "for i in range(1, viral_pneumonia_images_length+1):\n",
    "    viral_pneumonia_images.append(cv2.imread(\n",
    "        './COVID-19_Radiography_Dataset/Viral Pneumonia/sharpen_images/Viral Pneumonia-'+str(i)+'.png'))\n",
    "\n",
    "#! read all images of covid\n",
    "covid_images = []\n",
    "for i in range(1, covid_images_length+1):\n",
    "    covid_images.append(cv2.imread(\n",
    "        './COVID-19_Radiography_Dataset/COVID/sharpen_images/COVID-'+str(i)+'.png'))"
   ]
  },
  {
   "cell_type": "code",
   "execution_count": 3,
   "metadata": {},
   "outputs": [
    {
     "name": "stdout",
     "output_type": "stream",
     "text": [
      "No. of Normal images  10192\n",
      "No. of Viral Pneumonia images  1345\n",
      "No. of COVID images  3616\n"
     ]
    }
   ],
   "source": [
    "print('No. of Normal images ', len(normal_images))\n",
    "print('No. of Viral Pneumonia images ', len(viral_pneumonia_images))\n",
    "print('No. of COVID images ', len(covid_images))"
   ]
  },
  {
   "cell_type": "code",
   "execution_count": 4,
   "metadata": {},
   "outputs": [
    {
     "name": "stdout",
     "output_type": "stream",
     "text": [
      "Normal images        => \t Total: 10192 \tTrain:  8153 \tTest:  2039\n",
      "Pneumonia images     => \t Total: 1345 \tTrain:  1076 \tTest:  269\n",
      "COVID images         => \t Total: 3616 \tTrain:  2892 \tTest:  724\n"
     ]
    }
   ],
   "source": [
    "# divide the data set into train and test in the ratio of 80:20\n",
    "train_normal_images = normal_images[:int(0.8*len(normal_images))]\n",
    "train_viral_pneumonia_images = viral_pneumonia_images[:int(0.8*len(viral_pneumonia_images))]\n",
    "train_covid_images = covid_images[:int(0.8*len(covid_images))]\n",
    "test_normal_images = normal_images[int(0.8*len(normal_images)):]\n",
    "test_viral_pneumonia_images = viral_pneumonia_images[int(0.8*len(viral_pneumonia_images)):]\n",
    "test_covid_images = covid_images[int(0.8*len(covid_images)):]\n",
    "\n",
    "print('Normal images        => \\t Total:', normal_images_length ,'\\tTrain: ', len(train_normal_images),\"\\tTest: \", len(test_normal_images))\n",
    "print('Pneumonia images     => \\t Total:', viral_pneumonia_images_length ,'\\tTrain: ', len(train_viral_pneumonia_images),\"\\tTest: \", len(test_viral_pneumonia_images))\n",
    "print('COVID images         => \\t Total:', covid_images_length ,'\\tTrain: ', len(train_covid_images),\"\\tTest: \", len(test_covid_images))\n",
    "\n"
   ]
  },
  {
   "cell_type": "code",
   "execution_count": 5,
   "metadata": {},
   "outputs": [],
   "source": [
    "# save the train and test images in the respective folders\n",
    "for i in range(len(test_normal_images)):\n",
    "    cv2.imwrite('./COVID-19_Radiography_Dataset/Normal/normal_test_images/Normal-' +\n",
    "                str(i+1)+'.png', test_normal_images[i])\n",
    "for i in range(len(test_viral_pneumonia_images)):\n",
    "    cv2.imwrite('./COVID-19_Radiography_Dataset/Viral Pneumonia/pneumonia_test_images/Viral Pneumonia-' +\n",
    "                str(i+1)+'.png', test_viral_pneumonia_images[i])\n",
    "for i in range(len(test_covid_images)):\n",
    "    cv2.imwrite('./COVID-19_Radiography_Dataset/COVID/covid_test_images/COVID-' +\n",
    "                str(i+1)+'.png', test_covid_images[i])\n"
   ]
  },
  {
   "cell_type": "code",
   "execution_count": 7,
   "metadata": {},
   "outputs": [],
   "source": [
    "for i in range(len(train_normal_images)):\n",
    "    cv2.imwrite('./COVID-19_Radiography_Dataset/Normal/normal_train_images/Normal-' +\n",
    "                str(i+1)+'.png', train_normal_images[i])\n",
    "for i in range(len(train_viral_pneumonia_images)):\n",
    "    cv2.imwrite('./COVID-19_Radiography_Dataset/Viral Pneumonia/pneumonia_train_images/Viral Pneumonia-' +\n",
    "                str(i+1)+'.png', train_viral_pneumonia_images[i])\n",
    "for i in range(len(train_covid_images)):\n",
    "    cv2.imwrite('./COVID-19_Radiography_Dataset/COVID/covid_train_images/COVID-' +\n",
    "                str(i+1)+'.png', train_covid_images[i])\n"
   ]
  },
  {
   "cell_type": "code",
   "execution_count": 8,
   "metadata": {},
   "outputs": [],
   "source": [
    "\n",
    "#! function to return a vector of frequency of all intensities from 0 to 255\n",
    "\n",
    "def get_img_vector(img):\n",
    "    img_vector = np.zeros(256)\n",
    "    for i in range(0, img.shape[0]):\n",
    "        for j in range(0, img.shape[1]):\n",
    "            img_vector[img[i][j]] += 1\n",
    "    return img_vector\n",
    "\n",
    "\n",
    "#! function to calculate euclidean distance between two vectors\n",
    "def euclidean_distance(vector1, vector2):\n",
    "    distance = 0.0\n",
    "    for i in range(len(vector1)):\n",
    "        distance += (vector1[i] - vector2[i])**2\n",
    "    return np.sqrt(distance)\n",
    "\n",
    "\n",
    "#! function to calculate manhattan distance between two vectors\n",
    "def manhattan_distance(vector1, vector2):\n",
    "    return np.sum(np.abs(vector1 - vector2))"
   ]
  },
  {
   "cell_type": "code",
   "execution_count": 9,
   "metadata": {},
   "outputs": [
    {
     "name": "stdout",
     "output_type": "stream",
     "text": [
      "Train images => \t COVID: 2892 \tPneumonia: 1076 \tNormal: 8153\n",
      "Test images => \t COVID: 724 \tPneumonia: 269 \tNormal: 2039\n"
     ]
    }
   ],
   "source": [
    "# read the train images of covid\n",
    "covid_train_images = []\n",
    "for i in range(1, len(os.listdir('./COVID-19_Radiography_Dataset/COVID/covid_train_images/'))+1):\n",
    "    covid_train_images.append(cv2.imread(\n",
    "        './COVID-19_Radiography_Dataset/COVID/covid_train_images/COVID-'+str(i)+'.png'))\n",
    "\n",
    "# read the train images of pneumonia\n",
    "pneumonia_train_images = []\n",
    "for i in range(1, len(os.listdir('./COVID-19_Radiography_Dataset/Viral Pneumonia/pneumonia_train_images/'))+1):\n",
    "    pneumonia_train_images.append(cv2.imread(\n",
    "        './COVID-19_Radiography_Dataset/Viral Pneumonia/pneumonia_train_images/Viral Pneumonia-'+str(i)+'.png'))\n",
    "\n",
    "# read the train images of normal\n",
    "normal_train_images = []\n",
    "for i in range(1, len(os.listdir('./COVID-19_Radiography_Dataset/Normal/normal_train_images/'))+1):\n",
    "    normal_train_images.append(cv2.imread(\n",
    "        './COVID-19_Radiography_Dataset/Normal/normal_train_images/Normal-'+str(i)+'.png'))\n",
    "\n",
    "# read the test images of covid\n",
    "covid_test_images = []\n",
    "for i in range(1, len(os.listdir('./COVID-19_Radiography_Dataset/COVID/covid_test_images/'))+1):\n",
    "    covid_test_images.append(cv2.imread(\n",
    "        './COVID-19_Radiography_Dataset/COVID/covid_test_images/COVID-'+str(i)+'.png'))\n",
    "\n",
    "# read the test images of pneumonia\n",
    "pneumonia_test_images = []\n",
    "for i in range(1, len(os.listdir('./COVID-19_Radiography_Dataset/Viral Pneumonia/pneumonia_test_images/'))+1):\n",
    "    pneumonia_test_images.append(cv2.imread(\n",
    "        './COVID-19_Radiography_Dataset/Viral Pneumonia/pneumonia_test_images/Viral Pneumonia-'+str(i)+'.png'))\n",
    "\n",
    "# read the test images of normal\n",
    "normal_test_images = []\n",
    "for i in range(1, len(os.listdir('./COVID-19_Radiography_Dataset/Normal/normal_test_images/'))+1):\n",
    "    normal_test_images.append(cv2.imread(\n",
    "        './COVID-19_Radiography_Dataset/Normal/normal_test_images/Normal-'+str(i)+'.png'))\n",
    "\n",
    "# print the length of the train and test images\n",
    "print('Train images => \\t COVID:', len(covid_train_images), '\\tPneumonia:', len( pneumonia_train_images), '\\tNormal:', len(normal_train_images))\n",
    "print('Test images => \\t COVID:', len(covid_test_images), '\\tPneumonia:', len( pneumonia_test_images), '\\tNormal:', len(normal_test_images))"
   ]
  },
  {
   "cell_type": "code",
   "execution_count": 11,
   "metadata": {},
   "outputs": [],
   "source": [
    "def formatString(string):\n",
    "    string = string.replace(\"array([\", \"[\")\n",
    "    string = string.replace(\"]),array([\", \"],[\")\n",
    "    string = string.replace(\"])\", \"]\")\n",
    "    return string\n",
    "\n",
    "\n",
    "def convertToArray(string):\n",
    "    listArr = ast.literal_eval(string)\n",
    "    return listArr\n",
    "\n",
    "\n",
    "def tupleToList(listArr):\n",
    "    array = []\n",
    "    for i in range(len(listArr)):\n",
    "        array.append(listArr[i])\n",
    "    return array\n",
    "\n",
    "def loadFile(path):\n",
    "    with open(path, 'r') as f:\n",
    "        vector = f.read()\n",
    "        vector = formatString(vector)\n",
    "        vector = convertToArray(vector)\n",
    "        vector = tupleToList(vector)\n",
    "        f.close()\n",
    "    return vector"
   ]
  },
  {
   "cell_type": "code",
   "execution_count": 14,
   "metadata": {},
   "outputs": [],
   "source": [
    "# load image vectors from file normal_images_vector.txt\n",
    "normal_images_vector = loadFile('./COVID-19_Radiography_Dataset/Normal/normal_images_vector.txt')\n",
    "# load image vectors from file pneumonia_images_vector.txt\n",
    "pneumonia_images_vector = loadFile('./COVID-19_Radiography_Dataset/Viral Pneumonia/viral_pneumonia_images_vector.txt')\n",
    "# load image vectors from file covid_images_vector.txt\n",
    "covid_images_vector = loadFile('./COVID-19_Radiography_Dataset/COVID/covid_images_vector.txt')"
   ]
  },
  {
   "cell_type": "code",
   "execution_count": 15,
   "metadata": {},
   "outputs": [
    {
     "name": "stdout",
     "output_type": "stream",
     "text": [
      "Train image vectors => \t COVID: 2892 \tPneumonia: 1076 \tNormal: 8153\n",
      "Test image vectors => \t COVID: 724 \tPneumonia: 269 \tNormal: 2039\n"
     ]
    }
   ],
   "source": [
    "# divide the image vectors into train and test vectors\n",
    "normal_train_images_vector = normal_images_vector[:len(normal_train_images)]\n",
    "normal_test_images_vector = normal_images_vector[len(normal_train_images):]\n",
    "pneumonia_train_images_vector = pneumonia_images_vector[:len(pneumonia_train_images)]\n",
    "pneumonia_test_images_vector = pneumonia_images_vector[len(pneumonia_train_images):]\n",
    "covid_train_images_vector = covid_images_vector[:len(covid_train_images)]\n",
    "covid_test_images_vector = covid_images_vector[len(covid_train_images):]\n",
    "\n",
    "# print the length of the train and test image vectors\n",
    "print('Train image vectors => \\t COVID:', len(covid_train_images_vector), '\\tPneumonia:', len( pneumonia_train_images_vector), '\\tNormal:', len(normal_train_images_vector))\n",
    "print('Test image vectors => \\t COVID:', len(covid_test_images_vector), '\\tPneumonia:', len( pneumonia_test_images_vector), '\\tNormal:', len(normal_test_images_vector))\n",
    "\n"
   ]
  },
  {
   "cell_type": "code",
   "execution_count": 16,
   "metadata": {},
   "outputs": [],
   "source": [
    "# save the vectors to txt file\n",
    "\n",
    "with open('./COVID-19_Radiography_Dataset/COVID/features/covid_test_vectors.txt', 'w') as f:\n",
    "    f.write(str(covid_test_images_vector))\n",
    "\n",
    "with open('./COVID-19_Radiography_Dataset/COVID/features/covid_train_vectors.txt', 'w') as f:\n",
    "    f.write(str(covid_train_images_vector))\n",
    "\n",
    "with open('./COVID-19_Radiography_Dataset/Viral Pneumonia/features/pneumonia_test_vectors.txt', 'w') as f:\n",
    "    f.write(str(pneumonia_test_images_vector))\n",
    "\n",
    "with open('./COVID-19_Radiography_Dataset/Viral Pneumonia/features/pneumonia_train_vectors.txt', 'w') as f:\n",
    "    f.write(str(pneumonia_train_images_vector))\n",
    "\n",
    "with open('./COVID-19_Radiography_Dataset/Normal/features/normal_test_vectors.txt', 'w') as f:\n",
    "    f.write(str(normal_test_images_vector))\n",
    "\n",
    "with open('./COVID-19_Radiography_Dataset/Normal/features/normal_train_vectors.txt', 'w') as f:\n",
    "    f.write(str(normal_train_images_vector))\n",
    "\n",
    "# load the vectors from the txt file"
   ]
  },
  {
   "attachments": {},
   "cell_type": "markdown",
   "metadata": {},
   "source": [
    "RUN BELOW CODE"
   ]
  },
  {
   "cell_type": "code",
   "execution_count": 17,
   "metadata": {},
   "outputs": [
    {
     "name": "stdout",
     "output_type": "stream",
     "text": [
      "Train image vectors => \t COVID: 2892 \tPneumonia: 1076 \tNormal: 8153\n",
      "Test image vectors => \t COVID: 724 \tPneumonia: 269 \tNormal: 2039\n"
     ]
    }
   ],
   "source": [
    "covid_test_vectors = loadFile('./COVID-19_Radiography_Dataset/COVID/features/covid_test_vectors.txt')\n",
    "covid_train_vectors = loadFile('./COVID-19_Radiography_Dataset/COVID/features/covid_train_vectors.txt')\n",
    "pneumonia_test_vectors = loadFile('./COVID-19_Radiography_Dataset/Viral Pneumonia/features/pneumonia_test_vectors.txt')\n",
    "pneumonia_train_vectors = loadFile('./COVID-19_Radiography_Dataset/Viral Pneumonia/features/pneumonia_train_vectors.txt')\n",
    "normal_test_vectors = loadFile('./COVID-19_Radiography_Dataset/Normal/features/normal_test_vectors.txt')\n",
    "normal_train_vectors = loadFile('./COVID-19_Radiography_Dataset/Normal/features/normal_train_vectors.txt')\n",
    "\n",
    "# print the length of the train and test image vectors\n",
    "print('Train image vectors => \\t COVID:', len(covid_train_vectors), '\\tPneumonia:', len( pneumonia_train_vectors), '\\tNormal:', len(normal_train_vectors))\n",
    "print('Test image vectors => \\t COVID:', len(covid_test_vectors), '\\tPneumonia:', len( pneumonia_test_vectors), '\\tNormal:', len(normal_test_vectors))\n",
    "\n"
   ]
  },
  {
   "cell_type": "code",
   "execution_count": 18,
   "metadata": {},
   "outputs": [],
   "source": [
    "r = 10000\n",
    "\n",
    "covid_train_clusters = []  # list of clusters\n",
    "\n",
    "# cluster to store vectors that lie within a threshold distance(r) from a vector\n",
    "cluster = []\n",
    "check = []\n",
    "for i in range(0, len(covid_train_vectors)-1):\n",
    "    cluster = []\n",
    "    if covid_train_vectors[i] not in check:\n",
    "        cluster.append(covid_train_vectors[i])\n",
    "        check.append(covid_train_vectors[i])\n",
    "    else:\n",
    "        continue\n",
    "    for j in range(i+1, len(covid_train_vectors)):\n",
    "\n",
    "        if euclidean_distance(covid_train_vectors[i], covid_train_vectors[j]) <= r:\n",
    "            if covid_train_vectors[j] not in check:\n",
    "                cluster.append(covid_train_vectors[j])\n",
    "                check.append(covid_train_vectors[j])\n",
    "\n",
    "    covid_train_clusters.append(cluster)\n"
   ]
  },
  {
   "cell_type": "code",
   "execution_count": 19,
   "metadata": {},
   "outputs": [
    {
     "name": "stdout",
     "output_type": "stream",
     "text": [
      "Cluster  1  :  2563\n",
      "Cluster  2  :  151\n",
      "Cluster  3  :  2\n",
      "Cluster  4  :  38\n",
      "Cluster  5  :  24\n",
      "Cluster  6  :  6\n",
      "Cluster  7  :  22\n",
      "Cluster  8  :  28\n",
      "Cluster  9  :  1\n",
      "Cluster  10  :  4\n",
      "Cluster  11  :  3\n",
      "Cluster  12  :  3\n",
      "Cluster  13  :  1\n",
      "Cluster  14  :  5\n",
      "Cluster  15  :  1\n",
      "Cluster  16  :  1\n",
      "Cluster  17  :  5\n",
      "Cluster  18  :  1\n",
      "Cluster  19  :  1\n",
      "Cluster  20  :  1\n",
      "Cluster  21  :  1\n",
      "Cluster  22  :  1\n",
      "Total number of vectors:  2863\n"
     ]
    }
   ],
   "source": [
    "# print the clusters\n",
    "sum=0\n",
    "for i in range(0, len(covid_train_clusters)):\n",
    "    print(\"Cluster \", i+1, \" : \", len(covid_train_clusters[i]))\n",
    "    sum+=len(covid_train_clusters[i])\n",
    "print(\"Total number of vectors: \", sum)"
   ]
  }
 ],
 "metadata": {
  "kernelspec": {
   "display_name": "base",
   "language": "python",
   "name": "python3"
  },
  "language_info": {
   "codemirror_mode": {
    "name": "ipython",
    "version": 3
   },
   "file_extension": ".py",
   "mimetype": "text/x-python",
   "name": "python",
   "nbconvert_exporter": "python",
   "pygments_lexer": "ipython3",
   "version": "3.9.12"
  },
  "orig_nbformat": 4,
  "vscode": {
   "interpreter": {
    "hash": "88279d2366fe020547cde40dd65aa0e3aa662a6ec1f3ca12d88834876c85e1a6"
   }
  }
 },
 "nbformat": 4,
 "nbformat_minor": 2
}
